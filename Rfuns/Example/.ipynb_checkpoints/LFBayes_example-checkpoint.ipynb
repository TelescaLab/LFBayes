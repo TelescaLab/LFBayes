{
 "cells": [
  {
   "cell_type": "code",
   "execution_count": 3,
   "metadata": {},
   "outputs": [
    {
     "name": "stderr",
     "output_type": "stream",
     "text": [
      "Warning message:\n",
      "\"package 'pracma' was built under R version 3.6.2\"\n"
     ]
    }
   ],
   "source": [
    "library(splines)\n",
    "library(MASS)\n",
    "library(LFBayes)\n",
    "library(pracma)\n",
    "\n",
    "source(\"Simulation_funcs.R\")\n",
    "errorvar <- .025\n",
    "SS <- 20\n",
    "TT <- 20\n",
    "t <- seq(from = 0, to = 1, length.out = TT)\n",
    "s <- seq(from = 0, to = 1, length.out = SS)\n",
    "n <- 60\n",
    "tt <- list()\n",
    "tt[[1]] <- 1:(TT*SS)\n",
    "tt <- rep(tt, n)\n",
    "p1 <- 12\n",
    "p2 <- 12\n",
    "q1 <- 3\n",
    "q2 <- 3\n",
    "Bt <- bs(t, df = p1, intercept = TRUE)\n",
    "Bs <- bs(s, df = p2, intercept = TRUE)"
   ]
  },
  {
   "cell_type": "code",
   "execution_count": 4,
   "metadata": {},
   "outputs": [],
   "source": [
    "H <- GenerateH(q1, q2)\n",
    "mu1 <- GenerateMu1(s,t)\n",
    "Lambda <- Loading.Matern(t, p1, q1, Bt)\n",
    "Gamma <- Loading.Brown.Bridge(s, p2, q2)\n",
    "Cov <- kronecker(Bs%*%Gamma, Bt%*%Lambda)%*%H%*%t(kronecker(Bs%*%Gamma, Bt%*%Lambda)) + errorvar * diag(SS * TT)"
   ]
  },
  {
   "cell_type": "code",
   "execution_count": 5,
   "metadata": {},
   "outputs": [],
   "source": [
    "x <- mvrnorm(n, mu  = as.vector(mu1), Sigma = Cov)\n",
    "sx <- sd(x)\n",
    "mx <- mean(x)\n",
    "x <- (x-mx)/sx\n",
    "Smooth_scaled_cov <- (Cov - errorvar * diag(SS * TT)) / sx^2\n",
    "mu <- (mu1 - mx)/sx\n",
    "y <- lapply(1:n, function(i) x[i,])\n",
    "missing <- list()\n",
    "for(ii in 1:n){\n",
    "  missing[[ii]] <- numeric(0)\n",
    "}"
   ]
  },
  {
   "cell_type": "code",
   "execution_count": null,
   "metadata": {},
   "outputs": [],
   "source": [
    "q1_fit <- 6\n",
    "q2_fit <- 6\n",
    "iter <- 20000 # Number of iterations\n",
    "burnin <- 5000 # Burnin iterations\n",
    "thin <- 1 # Thinning for each chain\n",
    "nchain <- 1 # Number of chains\n",
    "neig <- 3 # Number of eigenfunctions for inference\n",
    "MCMC <- mcmcWeakChains(y, missing, X, Bs1, Bt1, q1s, q2s, iter, thin, burnin, nchain)\n",
    "MCMC_eigen <- eigenLFChains(Bs1, Bt1, MCMC, neig, iter, burnin, nchain,s,t)\n"
   ]
  }
 ],
 "metadata": {
  "kernelspec": {
   "display_name": "R",
   "language": "R",
   "name": "ir"
  },
  "language_info": {
   "codemirror_mode": "r",
   "file_extension": ".r",
   "mimetype": "text/x-r-source",
   "name": "R",
   "pygments_lexer": "r",
   "version": "3.6.1"
  }
 },
 "nbformat": 4,
 "nbformat_minor": 2
}
