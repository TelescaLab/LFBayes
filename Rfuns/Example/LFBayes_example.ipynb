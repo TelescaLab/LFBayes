{
 "cells": [
  {
   "cell_type": "markdown",
   "metadata": {},
   "source": [
    "# Introduction\n",
    "\n",
    "This notebook serves as an example "
   ]
  },
  {
   "cell_type": "code",
   "execution_count": 1,
   "metadata": {},
   "outputs": [
    {
     "name": "stderr",
     "output_type": "stream",
     "text": [
      "Warning message:\n",
      "\"package 'LFBayes' was built under R version 3.6.2\"\n",
      "Warning message:\n",
      "\"package 'pracma' was built under R version 3.6.2\"\n"
     ]
    }
   ],
   "source": [
    "library(splines)\n",
    "library(MASS)\n",
    "library(LFBayes)\n",
    "library(pracma)\n",
    "\n",
    "source(\"Simulation_funcs.R\")\n",
    "errorvar <- .025\n",
    "SS <- 20\n",
    "TT <- 20\n",
    "t <- seq(from = 0, to = 1, length.out = TT)\n",
    "s <- seq(from = 0, to = 1, length.out = SS)\n",
    "n <- 60\n",
    "tt <- list()\n",
    "tt[[1]] <- 1:(TT*SS)\n",
    "tt <- rep(tt, n)\n",
    "p1 <- 12\n",
    "p2 <- 12\n",
    "q1 <- 3\n",
    "q2 <- 3\n",
    "Bt <- bs(t, df = p1, intercept = TRUE)\n",
    "Bs <- bs(s, df = p2, intercept = TRUE)"
   ]
  },
  {
   "cell_type": "code",
   "execution_count": 2,
   "metadata": {},
   "outputs": [],
   "source": [
    "H <- GenerateH(q1, q2)\n",
    "mu1 <- GenerateMu1(s,t)\n",
    "Lambda <- Loading.Matern(t, p1, q1, Bt)\n",
    "Gamma <- Loading.Brown.Bridge(s, p2, q2)\n",
    "Cov <- kronecker(Bs%*%Gamma, Bt%*%Lambda)%*%H%*%t(kronecker(Bs%*%Gamma, Bt%*%Lambda)) + errorvar * diag(SS * TT)"
   ]
  },
  {
   "cell_type": "code",
   "execution_count": 3,
   "metadata": {},
   "outputs": [],
   "source": [
    "x <- mvrnorm(n, mu  = as.vector(mu1), Sigma = Cov)\n",
    "sx <- sd(x)\n",
    "mx <- mean(x)\n",
    "x <- (x-mx)/sx\n",
    "Smooth_scaled_cov <- (Cov - errorvar * diag(SS * TT)) / sx^2\n",
    "mu <- (mu1 - mx)/sx\n",
    "y <- lapply(1:n, function(i) x[i,])\n",
    "missing <- list()\n",
    "for(ii in 1:n){\n",
    "  missing[[ii]] <- numeric(0)\n",
    "}\n",
    "X <- cbind(rep(1, n))"
   ]
  },
  {
   "cell_type": "code",
   "execution_count": 4,
   "metadata": {},
   "outputs": [
    {
     "name": "stdout",
     "output_type": "stream",
     "text": [
      "Starting MCMC...\n",
      "0%\n",
      "10%\n",
      "20%\n",
      "30%\n",
      "40%\n",
      "50%\n",
      "60%\n",
      "70%\n",
      "80%\n",
      "90%\n",
      "All done!\n",
      "Starting post-processing...\n",
      "0%\n",
      "10%\n",
      "20%\n",
      "30%\n",
      "40%\n",
      "50%\n",
      "60%\n",
      "70%\n",
      "80%\n",
      "90%\n",
      "All done!\n"
     ]
    }
   ],
   "source": [
    "q1_fit <- 6\n",
    "q2_fit <- 6\n",
    "p1_fit <- 14\n",
    "p2_fit <- 14\n",
    "Bs_fit <- bs(s, df = p2_fit, intercept = TRUE)\n",
    "Bt_fit <- bs(t, df = p1_fit, intercept = TRUE)\n",
    "iter <- 500 # Number of iterations\n",
    "burnin <- 200 # Burnin iterations\n",
    "thin <- 1 # Thinning for each chain\n",
    "nchain <- 1 # Number of chains\n",
    "neig <- 3 # Number of eigenfunctions for inference\n",
    "LF_fit <- mcmcWeakChains(y, missing, X, Bs_fit, Bt_fit, q1_fit, q2_fit, iter, thin, burnin, nchain)\n",
    "Post_proc <- eigenLFChains(Bs_fit, Bt_fit, LF_fit, neig, iter, burnin, nchain,s,t)"
   ]
  },
  {
   "cell_type": "code",
   "execution_count": null,
   "metadata": {},
   "outputs": [],
   "source": []
  }
 ],
 "metadata": {
  "kernelspec": {
   "display_name": "R",
   "language": "R",
   "name": "ir"
  },
  "language_info": {
   "codemirror_mode": "r",
   "file_extension": ".r",
   "mimetype": "text/x-r-source",
   "name": "R",
   "pygments_lexer": "r",
   "version": "3.6.1"
  }
 },
 "nbformat": 4,
 "nbformat_minor": 2
}
