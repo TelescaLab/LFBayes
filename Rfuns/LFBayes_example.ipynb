{
 "cells": [
  {
   "cell_type": "code",
   "execution_count": null,
   "metadata": {},
   "outputs": [],
   "source": [
    "source(\"Simulation_funcs.R\")\n",
    "errorvar <- .025\n",
    "SS <- 20\n",
    "TT <- 20\n",
    "t <- seq(from = 0, to = 1, length.out = TT)\n",
    "s <- seq(from = 0, to = 1, length.out = SS)\n",
    "n <- 60\n",
    "tt <- list()\n",
    "tt[[1]] <- 1:(TT*SS)\n",
    "tt <- rep(tt, n)\n",
    "p1 <- 12\n",
    "p2 <- 12\n",
    "q1 <- 3\n",
    "q2 <- 3\n",
    "Bt <- bs(t, df = p1, intercept = TRUE)\n",
    "Bs <- bs(s, df = p2, intercept = TRUE)"
   ]
  },
  {
   "cell_type": "code",
   "execution_count": null,
   "metadata": {},
   "outputs": [],
   "source": [
    "H <- GenerateH(q1, q2)\n",
    "mu1 <- GenerateMu1(s,t)\n",
    "Lambda <- Loading.Matern(t, p1, q1, Bt)\n",
    "Gamma <- Loading.Brown.Bridge(s, p2, q2)\n",
    "Cov <- kronecker(Bs%*%Gamma, Bt%*%Lambda)%*%H%*%t(kronecker(Bs%*%Gamma, Bt%*%Lambda)) + errorvar * diag(SS * TT)"
   ]
  },
  {
   "cell_type": "code",
   "execution_count": null,
   "metadata": {},
   "outputs": [],
   "source": [
    "x <- mvrnorm(n, mu  = as.vector(mu1), Sigma = Cov)\n",
    "sx <- sd(x)\n",
    "mx <- mean(x)\n",
    "x <- (x-mx)/sx\n",
    "Smooth_scaled_cov <- (Cov - errorvar * diag(SS * TT)) / sx^2\n",
    "mu <- (mu1 - mx)/sx\n",
    "y <- lapply(1:n, function(i) x[i,])\n",
    "missing <- list()\n",
    "for(ii in 1:n){\n",
    "  missing[[ii]] <- numeric(0)\n",
    "}"
   ]
  }
 ],
 "metadata": {
  "kernelspec": {
   "display_name": "R",
   "language": "R",
   "name": "ir"
  },
  "language_info": {
   "codemirror_mode": "r",
   "file_extension": ".r",
   "mimetype": "text/x-r-source",
   "name": "R",
   "pygments_lexer": "r",
   "version": "3.6.1"
  }
 },
 "nbformat": 4,
 "nbformat_minor": 2
}
